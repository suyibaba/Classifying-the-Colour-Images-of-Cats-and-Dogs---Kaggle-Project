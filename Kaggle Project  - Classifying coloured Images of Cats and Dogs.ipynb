{
 "cells": [
  {
   "cell_type": "code",
   "execution_count": 1,
   "id": "e5185a12",
   "metadata": {},
   "outputs": [],
   "source": [
    "import numpy as np\n",
    "import pandas as pd\n",
    "%matplotlib inline\n",
    "import matplotlib as mpl\n",
    "import matplotlib.pyplot as plt\n",
    "import os"
   ]
  },
  {
   "cell_type": "code",
   "execution_count": 4,
   "id": "48ad1ded",
   "metadata": {},
   "outputs": [],
   "source": [
    "import tensorflow as tf\n",
    "from tensorflow import keras"
   ]
  },
  {
   "cell_type": "code",
   "execution_count": 5,
   "id": "e1c02800",
   "metadata": {},
   "outputs": [],
   "source": [
    "train_dir = r\"C:\\Users\\onata\\Downloads\\cats_and_dogs_small\\train\"\n",
    "validation_dir = r\"C:\\Users\\onata\\Downloads\\cats_and_dogs_small\\validation\"\n",
    "test_dir = r\"C:\\Users\\onata\\Downloads\\cats_and_dogs_small\\test\""
   ]
  },
  {
   "cell_type": "markdown",
   "id": "00ce808a",
   "metadata": {},
   "source": [
    "# Data Preprocessing"
   ]
  },
  {
   "cell_type": "code",
   "execution_count": 6,
   "id": "af1c3377",
   "metadata": {},
   "outputs": [],
   "source": [
    "from tensorflow.keras.preprocessing.image import ImageDataGenerator"
   ]
  },
  {
   "cell_type": "code",
   "execution_count": 7,
   "id": "bb2acc66",
   "metadata": {},
   "outputs": [
    {
     "name": "stdout",
     "output_type": "stream",
     "text": [
      "Found 2000 images belonging to 2 classes.\n",
      "Found 1000 images belonging to 2 classes.\n"
     ]
    }
   ],
   "source": [
    "#Generating batches of tensor image data\n",
    "\n",
    "train_datagen = ImageDataGenerator(rescale=1./255)\n",
    "test_datagen = ImageDataGenerator(rescale = 1./255)\n",
    "\n",
    "train_generator = train_datagen.flow_from_directory(train_dir, target_size= (150,150), batch_size= 20, class_mode=\"binary\"\n",
    "                                                   )\n",
    "\n",
    "validation_generator = test_datagen.flow_from_directory(validation_dir,target_size=(150,150),batch_size = 20, class_mode= 'binary' )"
   ]
  },
  {
   "cell_type": "markdown",
   "id": "c3132219",
   "metadata": {},
   "source": [
    "# CNN ARCHITECTURE"
   ]
  },
  {
   "cell_type": "code",
   "execution_count": 8,
   "id": "ea81aef2",
   "metadata": {},
   "outputs": [],
   "source": [
    "from tensorflow.keras import layers\n",
    "from tensorflow.keras import models"
   ]
  },
  {
   "cell_type": "code",
   "execution_count": 10,
   "id": "bcdeaf74",
   "metadata": {},
   "outputs": [],
   "source": [
    "model = keras.models.Sequential()\n",
    "model.add(layers.Conv2D(filters=32, kernel_size=(3,3), activation='relu', input_shape = (150,150,3)))\n",
    "model.add(keras.layers.MaxPooling2D((2,2)))\n",
    "\n",
    "model.add(layers.Conv2D(filters=64, kernel_size=(3,3), activation='relu'))\n",
    "model.add(keras.layers.MaxPooling2D((2,2)))\n",
    "\n",
    "\n",
    "model.add(layers.Conv2D(filters=128, kernel_size=(3,3), activation='relu'))\n",
    "model.add(keras.layers.MaxPooling2D((2,2)))\n",
    "\n",
    "model.add(layers.Conv2D(filters=128, kernel_size=(3,3), activation='relu'))\n",
    "model.add(keras.layers.MaxPooling2D((2,2)))\n",
    "\n",
    "model.add(layers.Flatten())\n",
    "model.add(layers.Dense(512, activation=\"relu\"))\n",
    "model.add(layers.Dense(1, activation=\"sigmoid\"))"
   ]
  },
  {
   "cell_type": "code",
   "execution_count": 11,
   "id": "83ff0070",
   "metadata": {},
   "outputs": [
    {
     "name": "stdout",
     "output_type": "stream",
     "text": [
      "Model: \"sequential_1\"\n",
      "_________________________________________________________________\n",
      " Layer (type)                Output Shape              Param #   \n",
      "=================================================================\n",
      " conv2d_1 (Conv2D)           (None, 148, 148, 32)      896       \n",
      "                                                                 \n",
      " max_pooling2d_1 (MaxPooling  (None, 74, 74, 32)       0         \n",
      " 2D)                                                             \n",
      "                                                                 \n",
      " conv2d_2 (Conv2D)           (None, 72, 72, 64)        18496     \n",
      "                                                                 \n",
      " max_pooling2d_2 (MaxPooling  (None, 36, 36, 64)       0         \n",
      " 2D)                                                             \n",
      "                                                                 \n",
      " conv2d_3 (Conv2D)           (None, 34, 34, 128)       73856     \n",
      "                                                                 \n",
      " max_pooling2d_3 (MaxPooling  (None, 17, 17, 128)      0         \n",
      " 2D)                                                             \n",
      "                                                                 \n",
      " conv2d_4 (Conv2D)           (None, 15, 15, 128)       147584    \n",
      "                                                                 \n",
      " max_pooling2d_4 (MaxPooling  (None, 7, 7, 128)        0         \n",
      " 2D)                                                             \n",
      "                                                                 \n",
      " flatten (Flatten)           (None, 6272)              0         \n",
      "                                                                 \n",
      " dense (Dense)               (None, 512)               3211776   \n",
      "                                                                 \n",
      " dense_1 (Dense)             (None, 1)                 513       \n",
      "                                                                 \n",
      "=================================================================\n",
      "Total params: 3,453,121\n",
      "Trainable params: 3,453,121\n",
      "Non-trainable params: 0\n",
      "_________________________________________________________________\n"
     ]
    }
   ],
   "source": [
    "model.summary()"
   ]
  },
  {
   "cell_type": "code",
   "execution_count": 13,
   "id": "8bb19d40",
   "metadata": {},
   "outputs": [],
   "source": [
    "from tensorflow.keras import optimizers\n",
    "\n",
    "model.compile(loss = 'binary_crossentropy', optimizer= optimizers.RMSprop(lr = 1e-4),\n",
    "             metrics=['acc'])"
   ]
  },
  {
   "cell_type": "code",
   "execution_count": 14,
   "id": "9725147f",
   "metadata": {
    "scrolled": false
   },
   "outputs": [
    {
     "name": "stderr",
     "output_type": "stream",
     "text": [
      "C:\\Users\\onata\\AppData\\Local\\Temp/ipykernel_7512/3420509317.py:1: UserWarning: `Model.fit_generator` is deprecated and will be removed in a future version. Please use `Model.fit`, which supports generators.\n",
      "  history = model.fit_generator(train_generator, steps_per_epoch=100, epochs=20,validation_data=validation_generator, validation_steps=50)\n"
     ]
    },
    {
     "name": "stdout",
     "output_type": "stream",
     "text": [
      "Epoch 1/20\n",
      "100/100 [==============================] - 33s 325ms/step - loss: 0.6882 - acc: 0.5355 - val_loss: 0.6913 - val_acc: 0.5290\n",
      "Epoch 2/20\n",
      "100/100 [==============================] - 27s 267ms/step - loss: 0.6578 - acc: 0.6170 - val_loss: 0.6643 - val_acc: 0.5850\n",
      "Epoch 3/20\n",
      "100/100 [==============================] - 27s 272ms/step - loss: 0.6140 - acc: 0.6625 - val_loss: 0.6486 - val_acc: 0.6180\n",
      "Epoch 4/20\n",
      "100/100 [==============================] - 27s 268ms/step - loss: 0.5645 - acc: 0.7130 - val_loss: 0.5801 - val_acc: 0.6830\n",
      "Epoch 5/20\n",
      "100/100 [==============================] - 26s 262ms/step - loss: 0.5436 - acc: 0.7325 - val_loss: 0.6003 - val_acc: 0.6670\n",
      "Epoch 6/20\n",
      "100/100 [==============================] - 28s 283ms/step - loss: 0.5182 - acc: 0.7365 - val_loss: 0.5534 - val_acc: 0.7100\n",
      "Epoch 7/20\n",
      "100/100 [==============================] - 27s 267ms/step - loss: 0.4921 - acc: 0.7545 - val_loss: 0.5409 - val_acc: 0.7220\n",
      "Epoch 8/20\n",
      "100/100 [==============================] - 27s 269ms/step - loss: 0.4611 - acc: 0.7785 - val_loss: 0.6308 - val_acc: 0.6600\n",
      "Epoch 9/20\n",
      "100/100 [==============================] - 27s 274ms/step - loss: 0.4383 - acc: 0.7930 - val_loss: 0.5512 - val_acc: 0.7130\n",
      "Epoch 10/20\n",
      "100/100 [==============================] - 29s 287ms/step - loss: 0.4173 - acc: 0.8040 - val_loss: 0.5242 - val_acc: 0.7310\n",
      "Epoch 11/20\n",
      "100/100 [==============================] - 27s 270ms/step - loss: 0.3871 - acc: 0.8260 - val_loss: 0.5268 - val_acc: 0.7310\n",
      "Epoch 12/20\n",
      "100/100 [==============================] - 25s 251ms/step - loss: 0.3729 - acc: 0.8355 - val_loss: 0.5462 - val_acc: 0.7240\n",
      "Epoch 13/20\n",
      "100/100 [==============================] - 25s 252ms/step - loss: 0.3440 - acc: 0.8520 - val_loss: 0.6034 - val_acc: 0.7070\n",
      "Epoch 14/20\n",
      "100/100 [==============================] - 25s 251ms/step - loss: 0.3168 - acc: 0.8650 - val_loss: 0.5544 - val_acc: 0.7360\n",
      "Epoch 15/20\n",
      "100/100 [==============================] - 26s 259ms/step - loss: 0.3049 - acc: 0.8755 - val_loss: 0.6480 - val_acc: 0.7050\n",
      "Epoch 16/20\n",
      "100/100 [==============================] - 25s 255ms/step - loss: 0.2813 - acc: 0.8860 - val_loss: 0.5690 - val_acc: 0.7390\n",
      "Epoch 17/20\n",
      "100/100 [==============================] - 26s 260ms/step - loss: 0.2618 - acc: 0.8880 - val_loss: 0.5960 - val_acc: 0.7330\n",
      "Epoch 18/20\n",
      "100/100 [==============================] - 26s 256ms/step - loss: 0.2399 - acc: 0.9060 - val_loss: 0.5996 - val_acc: 0.7430\n",
      "Epoch 19/20\n",
      "100/100 [==============================] - 25s 249ms/step - loss: 0.2210 - acc: 0.9105 - val_loss: 0.7368 - val_acc: 0.7210\n",
      "Epoch 20/20\n",
      "100/100 [==============================] - 25s 251ms/step - loss: 0.1975 - acc: 0.9225 - val_loss: 0.6495 - val_acc: 0.7240\n"
     ]
    }
   ],
   "source": [
    "history = model.fit_generator(train_generator, steps_per_epoch=100, epochs=20,validation_data=validation_generator, validation_steps=50)"
   ]
  },
  {
   "cell_type": "code",
   "execution_count": 15,
   "id": "9386ce85",
   "metadata": {},
   "outputs": [
    {
     "data": {
      "text/plain": [
       "<function matplotlib.pyplot.show(close=None, block=None)>"
      ]
     },
     "execution_count": 15,
     "metadata": {},
     "output_type": "execute_result"
    },
    {
     "data": {
      "image/png": "[encoded data removed]",
      "text/plain": [
       "<Figure size 576x360 with 1 Axes>"
      ]
     },
     "metadata": {
      "needs_background": "light"
     },
     "output_type": "display_data"
    }
   ],
   "source": [
    "pd.DataFrame(history.history).plot(figsize = (8,5))\n",
    "plt.grid(True)\n",
    "plt.gca().set_ylim(0,1)\n",
    "\n",
    "plt.show"
   ]
  },
  {
   "cell_type": "code",
   "execution_count": 16,
   "id": "5b056245",
   "metadata": {},
   "outputs": [],
   "source": [
    "#to save the existing model\n",
    "model.save(\"model.h5\")"
   ]
  },
  {
   "cell_type": "code",
   "execution_count": 17,
   "id": "2ff41688",
   "metadata": {},
   "outputs": [],
   "source": [
    "from tensorflow.keras import backend as K\n",
    "\n",
    "K.clear_session()\n",
    "\n",
    "del model"
   ]
  },
  {
   "cell_type": "code",
   "execution_count": 18,
   "id": "ff478df8",
   "metadata": {},
   "outputs": [],
   "source": [
    "#dummy data can be created using scaled, shear or rotation"
   ]
  },
  {
   "cell_type": "markdown",
   "id": "6994e3cb",
   "metadata": {},
   "source": [
    "# AUGMENTATION"
   ]
  },
  {
   "cell_type": "code",
   "execution_count": 19,
   "id": "5f73bb60",
   "metadata": {},
   "outputs": [
    {
     "name": "stdout",
     "output_type": "stream",
     "text": [
      "Found 2000 images belonging to 2 classes.\n",
      "Found 1000 images belonging to 2 classes.\n"
     ]
    }
   ],
   "source": [
    "train_datagen = ImageDataGenerator(rescale=1./255,rotation_range=40,width_shift_range=0.2,height_shift_range=0.2,shear_range=0.2,zoom_range=0.2,horizontal_flip=True)\n",
    "test_datagen = ImageDataGenerator(rescale = 1./255)\n",
    "\n",
    "train_generator = train_datagen.flow_from_directory(train_dir, target_size= (150,150), batch_size= 32, class_mode=\"binary\"\n",
    "                                                   )\n",
    "\n",
    "validation_generator = test_datagen.flow_from_directory(validation_dir,target_size=(150,150),batch_size = 32, class_mode= 'binary' )"
   ]
  },
  {
   "cell_type": "code",
   "execution_count": 24,
   "id": "80bb58c6",
   "metadata": {},
   "outputs": [],
   "source": [
    "model = keras.models.Sequential()\n",
    "model.add(layers.Conv2D(filters=32, kernel_size=(3,3), activation='relu', input_shape = (150,150,3)))\n",
    "model.add(keras.layers.MaxPooling2D((2,2)))\n",
    "\n",
    "model.add(layers.Conv2D(filters=64, kernel_size=(3,3), activation='relu'))\n",
    "model.add(keras.layers.MaxPooling2D((2,2)))\n",
    "\n",
    "\n",
    "model.add(layers.Conv2D(filters=128, kernel_size=(3,3), activation='relu'))\n",
    "model.add(keras.layers.MaxPooling2D((2,2)))\n",
    "\n",
    "model.add(layers.Conv2D(filters=128, kernel_size=(3,3), activation='relu'))\n",
    "model.add(keras.layers.MaxPooling2D((2,2)))\n",
    "\n",
    "model.add(layers.Flatten())\n",
    "model.add(layers.Dropout(0.5)) #this will deactivate 50 percent of neurons during each epoch.\n",
    "model.add(layers.Dense(512, activation=\"relu\"))\n",
    "model.add(layers.Dense(1, activation=\"sigmoid\"))\n",
    "\n",
    "model.compile(loss = 'binary_crossentropy', optimizer= optimizers.RMSprop(learning_rate = 1e-4),\n",
    "             metrics=['acc'])"
   ]
  },
  {
   "cell_type": "code",
   "execution_count": 29,
   "id": "d75e18e5",
   "metadata": {},
   "outputs": [
    {
     "name": "stdout",
     "output_type": "stream",
     "text": [
      "Epoch 1/100\n"
     ]
    },
    {
     "name": "stderr",
     "output_type": "stream",
     "text": [
      "C:\\Users\\onata\\AppData\\Local\\Temp/ipykernel_7512/3138077111.py:1: UserWarning: `Model.fit_generator` is deprecated and will be removed in a future version. Please use `Model.fit`, which supports generators.\n",
      "  history = model.fit_generator(train_generator, steps_per_epoch=40, epochs=100,validation_data=validation_generator, validation_steps=50)\n"
     ]
    },
    {
     "name": "stdout",
     "output_type": "stream",
     "text": [
      "40/40 [==============================] - ETA: 0s - loss: 0.5997 - acc: 0.6641WARNING:tensorflow:Your input ran out of data; interrupting training. Make sure that your dataset or generator can generate at least `steps_per_epoch * epochs` batches (in this case, 50 batches). You may need to use the repeat() function when building your dataset.\n",
      "40/40 [==============================] - 18s 457ms/step - loss: 0.5997 - acc: 0.6641 - val_loss: 0.6182 - val_acc: 0.6570\n",
      "Epoch 2/100\n",
      "40/40 [==============================] - 15s 376ms/step - loss: 0.6129 - acc: 0.6641\n",
      "Epoch 3/100\n",
      "40/40 [==============================] - 15s 381ms/step - loss: 0.6007 - acc: 0.6687\n",
      "Epoch 4/100\n",
      "40/40 [==============================] - 15s 377ms/step - loss: 0.6052 - acc: 0.6733\n",
      "Epoch 5/100\n",
      "40/40 [==============================] - 16s 387ms/step - loss: 0.5892 - acc: 0.6946\n",
      "Epoch 6/100\n",
      "40/40 [==============================] - 16s 401ms/step - loss: 0.5919 - acc: 0.6946\n",
      "Epoch 7/100\n",
      "40/40 [==============================] - 15s 377ms/step - loss: 0.5869 - acc: 0.6867\n",
      "Epoch 8/100\n",
      "40/40 [==============================] - 15s 374ms/step - loss: 0.5841 - acc: 0.6946\n",
      "Epoch 9/100\n",
      "40/40 [==============================] - 15s 375ms/step - loss: 0.5713 - acc: 0.6875\n",
      "Epoch 10/100\n",
      "40/40 [==============================] - 15s 375ms/step - loss: 0.5854 - acc: 0.6804\n",
      "Epoch 11/100\n",
      "40/40 [==============================] - 15s 377ms/step - loss: 0.5719 - acc: 0.7065\n",
      "Epoch 12/100\n",
      "40/40 [==============================] - 15s 377ms/step - loss: 0.5702 - acc: 0.6986\n",
      "Epoch 13/100\n",
      "40/40 [==============================] - 15s 379ms/step - loss: 0.5783 - acc: 0.6859\n",
      "Epoch 14/100\n",
      "40/40 [==============================] - 15s 379ms/step - loss: 0.5480 - acc: 0.7120\n",
      "Epoch 15/100\n",
      "40/40 [==============================] - 15s 372ms/step - loss: 0.5763 - acc: 0.6930\n",
      "Epoch 16/100\n",
      "40/40 [==============================] - 15s 372ms/step - loss: 0.5759 - acc: 0.6930\n",
      "Epoch 17/100\n",
      "40/40 [==============================] - 15s 375ms/step - loss: 0.5694 - acc: 0.7097\n",
      "Epoch 18/100\n",
      "40/40 [==============================] - 15s 378ms/step - loss: 0.5549 - acc: 0.7094\n",
      "Epoch 19/100\n",
      "40/40 [==============================] - 15s 380ms/step - loss: 0.5707 - acc: 0.6961\n",
      "Epoch 20/100\n",
      "40/40 [==============================] - 15s 377ms/step - loss: 0.5760 - acc: 0.6875\n",
      "Epoch 21/100\n",
      "40/40 [==============================] - 15s 380ms/step - loss: 0.5654 - acc: 0.7033\n",
      "Epoch 22/100\n",
      "40/40 [==============================] - 15s 376ms/step - loss: 0.5441 - acc: 0.7215\n",
      "Epoch 23/100\n",
      "40/40 [==============================] - 15s 378ms/step - loss: 0.5549 - acc: 0.7112\n",
      "Epoch 24/100\n",
      "40/40 [==============================] - 15s 373ms/step - loss: 0.5336 - acc: 0.7334\n",
      "Epoch 25/100\n",
      "40/40 [==============================] - 15s 374ms/step - loss: 0.5455 - acc: 0.7112\n",
      "Epoch 26/100\n",
      "40/40 [==============================] - 15s 383ms/step - loss: 0.5485 - acc: 0.7094\n",
      "Epoch 27/100\n",
      "40/40 [==============================] - 15s 377ms/step - loss: 0.5407 - acc: 0.7350\n",
      "Epoch 28/100\n",
      "40/40 [==============================] - 15s 373ms/step - loss: 0.5460 - acc: 0.7239\n",
      "Epoch 29/100\n",
      "40/40 [==============================] - 15s 382ms/step - loss: 0.5517 - acc: 0.7094\n",
      "Epoch 30/100\n",
      "40/40 [==============================] - 15s 379ms/step - loss: 0.5375 - acc: 0.7398\n",
      "Epoch 31/100\n",
      "40/40 [==============================] - 15s 379ms/step - loss: 0.5388 - acc: 0.7164\n",
      "Epoch 32/100\n",
      "40/40 [==============================] - 15s 377ms/step - loss: 0.5268 - acc: 0.7358\n",
      "Epoch 33/100\n",
      "40/40 [==============================] - 15s 376ms/step - loss: 0.5406 - acc: 0.7294\n",
      "Epoch 34/100\n",
      "40/40 [==============================] - 15s 380ms/step - loss: 0.5194 - acc: 0.7484\n",
      "Epoch 35/100\n",
      "40/40 [==============================] - 15s 381ms/step - loss: 0.5332 - acc: 0.7297\n",
      "Epoch 36/100\n",
      "40/40 [==============================] - 15s 379ms/step - loss: 0.5267 - acc: 0.7297\n",
      "Epoch 37/100\n",
      "40/40 [==============================] - 15s 377ms/step - loss: 0.5247 - acc: 0.7176\n",
      "Epoch 38/100\n",
      "40/40 [==============================] - 15s 378ms/step - loss: 0.5445 - acc: 0.7318\n",
      "Epoch 39/100\n",
      "40/40 [==============================] - 15s 383ms/step - loss: 0.5083 - acc: 0.7571\n",
      "Epoch 40/100\n",
      "40/40 [==============================] - 15s 374ms/step - loss: 0.5357 - acc: 0.7286\n",
      "Epoch 41/100\n",
      "40/40 [==============================] - 15s 375ms/step - loss: 0.5090 - acc: 0.7445\n",
      "Epoch 42/100\n",
      "40/40 [==============================] - 15s 373ms/step - loss: 0.5284 - acc: 0.7286\n",
      "Epoch 43/100\n",
      "40/40 [==============================] - 15s 382ms/step - loss: 0.5339 - acc: 0.7320\n",
      "Epoch 44/100\n",
      "40/40 [==============================] - 15s 375ms/step - loss: 0.5219 - acc: 0.7405\n",
      "Epoch 45/100\n",
      "40/40 [==============================] - 15s 382ms/step - loss: 0.5395 - acc: 0.7430\n",
      "Epoch 46/100\n",
      "40/40 [==============================] - 16s 385ms/step - loss: 0.5007 - acc: 0.7570\n",
      "Epoch 47/100\n",
      "40/40 [==============================] - 15s 383ms/step - loss: 0.5288 - acc: 0.7391\n",
      "Epoch 48/100\n",
      "40/40 [==============================] - 15s 376ms/step - loss: 0.5083 - acc: 0.7468\n",
      "Epoch 49/100\n",
      "40/40 [==============================] - 15s 378ms/step - loss: 0.5043 - acc: 0.7571\n",
      "Epoch 50/100\n",
      "40/40 [==============================] - 16s 396ms/step - loss: 0.5014 - acc: 0.7508\n",
      "Epoch 51/100\n",
      "40/40 [==============================] - 16s 388ms/step - loss: 0.5103 - acc: 0.7469\n",
      "Epoch 52/100\n",
      "40/40 [==============================] - 15s 372ms/step - loss: 0.5062 - acc: 0.7524\n",
      "Epoch 53/100\n",
      "40/40 [==============================] - 16s 384ms/step - loss: 0.4912 - acc: 0.7539\n",
      "Epoch 54/100\n",
      "40/40 [==============================] - 15s 377ms/step - loss: 0.5060 - acc: 0.7555\n",
      "Epoch 55/100\n",
      "40/40 [==============================] - 15s 374ms/step - loss: 0.5107 - acc: 0.7500\n",
      "Epoch 56/100\n",
      "40/40 [==============================] - 15s 375ms/step - loss: 0.4829 - acc: 0.7641\n",
      "Epoch 57/100\n",
      "40/40 [==============================] - 15s 374ms/step - loss: 0.4943 - acc: 0.7706\n",
      "Epoch 58/100\n",
      "40/40 [==============================] - 15s 375ms/step - loss: 0.4910 - acc: 0.7579\n",
      "Epoch 59/100\n",
      "40/40 [==============================] - 15s 372ms/step - loss: 0.4928 - acc: 0.7508\n",
      "Epoch 60/100\n",
      "40/40 [==============================] - 15s 375ms/step - loss: 0.4911 - acc: 0.7516\n",
      "Epoch 61/100\n",
      "40/40 [==============================] - 15s 376ms/step - loss: 0.4717 - acc: 0.7714\n",
      "Epoch 62/100\n",
      "40/40 [==============================] - 15s 374ms/step - loss: 0.4966 - acc: 0.7524\n",
      "Epoch 63/100\n",
      "40/40 [==============================] - 15s 380ms/step - loss: 0.4916 - acc: 0.7650\n",
      "Epoch 64/100\n",
      "40/40 [==============================] - 15s 381ms/step - loss: 0.4764 - acc: 0.7753\n",
      "Epoch 65/100\n",
      "40/40 [==============================] - 16s 388ms/step - loss: 0.5022 - acc: 0.7617\n",
      "Epoch 66/100\n",
      "40/40 [==============================] - 15s 383ms/step - loss: 0.4909 - acc: 0.7690\n",
      "Epoch 67/100\n",
      "40/40 [==============================] - 15s 378ms/step - loss: 0.4952 - acc: 0.7586\n",
      "Epoch 68/100\n",
      "40/40 [==============================] - 15s 375ms/step - loss: 0.5000 - acc: 0.7484\n",
      "Epoch 69/100\n",
      "40/40 [==============================] - 15s 381ms/step - loss: 0.4691 - acc: 0.7672\n",
      "Epoch 70/100\n",
      "40/40 [==============================] - 15s 383ms/step - loss: 0.4662 - acc: 0.7805\n",
      "Epoch 71/100\n",
      "40/40 [==============================] - 15s 377ms/step - loss: 0.4579 - acc: 0.7698\n",
      "Epoch 72/100\n",
      "40/40 [==============================] - 15s 378ms/step - loss: 0.4902 - acc: 0.7703\n",
      "Epoch 73/100\n",
      "40/40 [==============================] - 15s 383ms/step - loss: 0.4801 - acc: 0.7674\n",
      "Epoch 74/100\n",
      "40/40 [==============================] - 15s 383ms/step - loss: 0.4536 - acc: 0.7867\n",
      "Epoch 75/100\n",
      "40/40 [==============================] - 15s 381ms/step - loss: 0.4819 - acc: 0.7695\n",
      "Epoch 76/100\n",
      "40/40 [==============================] - 15s 383ms/step - loss: 0.4653 - acc: 0.7714\n",
      "Epoch 77/100\n",
      "40/40 [==============================] - 16s 405ms/step - loss: 0.4803 - acc: 0.7690\n",
      "Epoch 78/100\n",
      "40/40 [==============================] - 17s 430ms/step - loss: 0.4544 - acc: 0.7809\n",
      "Epoch 79/100\n",
      "40/40 [==============================] - 16s 407ms/step - loss: 0.4784 - acc: 0.7703\n",
      "Epoch 80/100\n",
      "40/40 [==============================] - 15s 384ms/step - loss: 0.4324 - acc: 0.7943\n",
      "Epoch 81/100\n",
      "40/40 [==============================] - 16s 393ms/step - loss: 0.4705 - acc: 0.7698\n",
      "Epoch 82/100\n",
      "40/40 [==============================] - 16s 399ms/step - loss: 0.4601 - acc: 0.7711\n",
      "Epoch 83/100\n",
      "40/40 [==============================] - 17s 412ms/step - loss: 0.4421 - acc: 0.7836\n",
      "Epoch 84/100\n",
      "40/40 [==============================] - 17s 417ms/step - loss: 0.4500 - acc: 0.7906\n",
      "Epoch 85/100\n",
      "40/40 [==============================] - 17s 424ms/step - loss: 0.4509 - acc: 0.7828\n",
      "Epoch 86/100\n",
      "40/40 [==============================] - 16s 399ms/step - loss: 0.4874 - acc: 0.7666\n",
      "Epoch 87/100\n",
      "40/40 [==============================] - 16s 398ms/step - loss: 0.4585 - acc: 0.7896\n",
      "Epoch 88/100\n",
      "40/40 [==============================] - 15s 384ms/step - loss: 0.4353 - acc: 0.7945\n",
      "Epoch 89/100\n",
      "40/40 [==============================] - 15s 384ms/step - loss: 0.4564 - acc: 0.7891\n",
      "Epoch 90/100\n",
      "40/40 [==============================] - 15s 373ms/step - loss: 0.4536 - acc: 0.7777\n",
      "Epoch 91/100\n",
      "40/40 [==============================] - 16s 390ms/step - loss: 0.4501 - acc: 0.7935\n",
      "Epoch 92/100\n",
      "40/40 [==============================] - 16s 396ms/step - loss: 0.4562 - acc: 0.7856\n",
      "Epoch 93/100\n",
      "40/40 [==============================] - 15s 383ms/step - loss: 0.4450 - acc: 0.7983\n",
      "Epoch 94/100\n",
      "40/40 [==============================] - 15s 382ms/step - loss: 0.4375 - acc: 0.7911\n",
      "Epoch 95/100\n",
      "40/40 [==============================] - 15s 380ms/step - loss: 0.4380 - acc: 0.7983\n",
      "Epoch 96/100\n",
      "40/40 [==============================] - 15s 382ms/step - loss: 0.4429 - acc: 0.7859\n",
      "Epoch 97/100\n",
      "40/40 [==============================] - 15s 384ms/step - loss: 0.4503 - acc: 0.7930\n",
      "Epoch 98/100\n",
      "40/40 [==============================] - 16s 388ms/step - loss: 0.4476 - acc: 0.7943\n",
      "Epoch 99/100\n",
      "40/40 [==============================] - 15s 380ms/step - loss: 0.4333 - acc: 0.7930\n",
      "Epoch 100/100\n",
      "40/40 [==============================] - 15s 381ms/step - loss: 0.4452 - acc: 0.7922\n"
     ]
    }
   ],
   "source": [
    "history = model.fit_generator(train_generator, steps_per_epoch=40, epochs=100,validation_data=validation_generator, validation_steps=50)"
   ]
  },
  {
   "cell_type": "code",
   "execution_count": 31,
   "id": "109c8e32",
   "metadata": {},
   "outputs": [],
   "source": [
    "model.save(\"project_cnn.h5\")"
   ]
  },
  {
   "cell_type": "code",
   "execution_count": 33,
   "id": "a3475a3c",
   "metadata": {},
   "outputs": [
    {
     "ename": "ValueError",
     "evalue": "All arrays must be of the same length",
     "output_type": "error",
     "traceback": [
      "\u001b[1;31m---------------------------------------------------------------------------\u001b[0m",
      "\u001b[1;31mValueError\u001b[0m                                Traceback (most recent call last)",
      "\u001b[1;32m~\\AppData\\Local\\Temp/ipykernel_7512/3215517128.py\u001b[0m in \u001b[0;36m<module>\u001b[1;34m\u001b[0m\n\u001b[1;32m----> 1\u001b[1;33m \u001b[0mpd\u001b[0m\u001b[1;33m.\u001b[0m\u001b[0mDataFrame\u001b[0m\u001b[1;33m(\u001b[0m\u001b[0mhistory\u001b[0m\u001b[1;33m.\u001b[0m\u001b[0mhistory\u001b[0m\u001b[1;33m)\u001b[0m\u001b[1;33m.\u001b[0m\u001b[0mplot\u001b[0m\u001b[1;33m(\u001b[0m\u001b[0mfigsize\u001b[0m \u001b[1;33m=\u001b[0m \u001b[1;33m(\u001b[0m\u001b[1;36m8\u001b[0m\u001b[1;33m,\u001b[0m\u001b[1;36m5\u001b[0m\u001b[1;33m)\u001b[0m\u001b[1;33m)\u001b[0m\u001b[1;33m\u001b[0m\u001b[1;33m\u001b[0m\u001b[0m\n\u001b[0m\u001b[0;32m      2\u001b[0m \u001b[0mplt\u001b[0m\u001b[1;33m.\u001b[0m\u001b[0mgrid\u001b[0m\u001b[1;33m(\u001b[0m\u001b[1;32mTrue\u001b[0m\u001b[1;33m)\u001b[0m\u001b[1;33m\u001b[0m\u001b[1;33m\u001b[0m\u001b[0m\n\u001b[0;32m      3\u001b[0m \u001b[0mplt\u001b[0m\u001b[1;33m.\u001b[0m\u001b[0mgca\u001b[0m\u001b[1;33m(\u001b[0m\u001b[1;33m)\u001b[0m\u001b[1;33m.\u001b[0m\u001b[0mset_ylim\u001b[0m\u001b[1;33m(\u001b[0m\u001b[1;36m0\u001b[0m\u001b[1;33m,\u001b[0m\u001b[1;36m1.5\u001b[0m\u001b[1;33m)\u001b[0m\u001b[1;33m\u001b[0m\u001b[1;33m\u001b[0m\u001b[0m\n\u001b[0;32m      4\u001b[0m \u001b[1;33m\u001b[0m\u001b[0m\n\u001b[0;32m      5\u001b[0m \u001b[0mplt\u001b[0m\u001b[1;33m.\u001b[0m\u001b[0mshow\u001b[0m\u001b[1;33m\u001b[0m\u001b[1;33m\u001b[0m\u001b[0m\n",
      "\u001b[1;32m~\\anaconda3\\lib\\site-packages\\pandas\\core\\frame.py\u001b[0m in \u001b[0;36m__init__\u001b[1;34m(self, data, index, columns, dtype, copy)\u001b[0m\n\u001b[0;32m    612\u001b[0m         \u001b[1;32melif\u001b[0m \u001b[0misinstance\u001b[0m\u001b[1;33m(\u001b[0m\u001b[0mdata\u001b[0m\u001b[1;33m,\u001b[0m \u001b[0mdict\u001b[0m\u001b[1;33m)\u001b[0m\u001b[1;33m:\u001b[0m\u001b[1;33m\u001b[0m\u001b[1;33m\u001b[0m\u001b[0m\n\u001b[0;32m    613\u001b[0m             \u001b[1;31m# GH#38939 de facto copy defaults to False only in non-dict cases\u001b[0m\u001b[1;33m\u001b[0m\u001b[1;33m\u001b[0m\u001b[0m\n\u001b[1;32m--> 614\u001b[1;33m             \u001b[0mmgr\u001b[0m \u001b[1;33m=\u001b[0m \u001b[0mdict_to_mgr\u001b[0m\u001b[1;33m(\u001b[0m\u001b[0mdata\u001b[0m\u001b[1;33m,\u001b[0m \u001b[0mindex\u001b[0m\u001b[1;33m,\u001b[0m \u001b[0mcolumns\u001b[0m\u001b[1;33m,\u001b[0m \u001b[0mdtype\u001b[0m\u001b[1;33m=\u001b[0m\u001b[0mdtype\u001b[0m\u001b[1;33m,\u001b[0m \u001b[0mcopy\u001b[0m\u001b[1;33m=\u001b[0m\u001b[0mcopy\u001b[0m\u001b[1;33m,\u001b[0m \u001b[0mtyp\u001b[0m\u001b[1;33m=\u001b[0m\u001b[0mmanager\u001b[0m\u001b[1;33m)\u001b[0m\u001b[1;33m\u001b[0m\u001b[1;33m\u001b[0m\u001b[0m\n\u001b[0m\u001b[0;32m    615\u001b[0m         \u001b[1;32melif\u001b[0m \u001b[0misinstance\u001b[0m\u001b[1;33m(\u001b[0m\u001b[0mdata\u001b[0m\u001b[1;33m,\u001b[0m \u001b[0mma\u001b[0m\u001b[1;33m.\u001b[0m\u001b[0mMaskedArray\u001b[0m\u001b[1;33m)\u001b[0m\u001b[1;33m:\u001b[0m\u001b[1;33m\u001b[0m\u001b[1;33m\u001b[0m\u001b[0m\n\u001b[0;32m    616\u001b[0m             \u001b[1;32mimport\u001b[0m \u001b[0mnumpy\u001b[0m\u001b[1;33m.\u001b[0m\u001b[0mma\u001b[0m\u001b[1;33m.\u001b[0m\u001b[0mmrecords\u001b[0m \u001b[1;32mas\u001b[0m \u001b[0mmrecords\u001b[0m\u001b[1;33m\u001b[0m\u001b[1;33m\u001b[0m\u001b[0m\n",
      "\u001b[1;32m~\\anaconda3\\lib\\site-packages\\pandas\\core\\internals\\construction.py\u001b[0m in \u001b[0;36mdict_to_mgr\u001b[1;34m(data, index, columns, dtype, typ, copy)\u001b[0m\n\u001b[0;32m    462\u001b[0m         \u001b[1;31m# TODO: can we get rid of the dt64tz special case above?\u001b[0m\u001b[1;33m\u001b[0m\u001b[1;33m\u001b[0m\u001b[0m\n\u001b[0;32m    463\u001b[0m \u001b[1;33m\u001b[0m\u001b[0m\n\u001b[1;32m--> 464\u001b[1;33m     return arrays_to_mgr(\n\u001b[0m\u001b[0;32m    465\u001b[0m         \u001b[0marrays\u001b[0m\u001b[1;33m,\u001b[0m \u001b[0mdata_names\u001b[0m\u001b[1;33m,\u001b[0m \u001b[0mindex\u001b[0m\u001b[1;33m,\u001b[0m \u001b[0mcolumns\u001b[0m\u001b[1;33m,\u001b[0m \u001b[0mdtype\u001b[0m\u001b[1;33m=\u001b[0m\u001b[0mdtype\u001b[0m\u001b[1;33m,\u001b[0m \u001b[0mtyp\u001b[0m\u001b[1;33m=\u001b[0m\u001b[0mtyp\u001b[0m\u001b[1;33m,\u001b[0m \u001b[0mconsolidate\u001b[0m\u001b[1;33m=\u001b[0m\u001b[0mcopy\u001b[0m\u001b[1;33m\u001b[0m\u001b[1;33m\u001b[0m\u001b[0m\n\u001b[0;32m    466\u001b[0m     )\n",
      "\u001b[1;32m~\\anaconda3\\lib\\site-packages\\pandas\\core\\internals\\construction.py\u001b[0m in \u001b[0;36marrays_to_mgr\u001b[1;34m(arrays, arr_names, index, columns, dtype, verify_integrity, typ, consolidate)\u001b[0m\n\u001b[0;32m    117\u001b[0m         \u001b[1;31m# figure out the index, if necessary\u001b[0m\u001b[1;33m\u001b[0m\u001b[1;33m\u001b[0m\u001b[0m\n\u001b[0;32m    118\u001b[0m         \u001b[1;32mif\u001b[0m \u001b[0mindex\u001b[0m \u001b[1;32mis\u001b[0m \u001b[1;32mNone\u001b[0m\u001b[1;33m:\u001b[0m\u001b[1;33m\u001b[0m\u001b[1;33m\u001b[0m\u001b[0m\n\u001b[1;32m--> 119\u001b[1;33m             \u001b[0mindex\u001b[0m \u001b[1;33m=\u001b[0m \u001b[0m_extract_index\u001b[0m\u001b[1;33m(\u001b[0m\u001b[0marrays\u001b[0m\u001b[1;33m)\u001b[0m\u001b[1;33m\u001b[0m\u001b[1;33m\u001b[0m\u001b[0m\n\u001b[0m\u001b[0;32m    120\u001b[0m         \u001b[1;32melse\u001b[0m\u001b[1;33m:\u001b[0m\u001b[1;33m\u001b[0m\u001b[1;33m\u001b[0m\u001b[0m\n\u001b[0;32m    121\u001b[0m             \u001b[0mindex\u001b[0m \u001b[1;33m=\u001b[0m \u001b[0mensure_index\u001b[0m\u001b[1;33m(\u001b[0m\u001b[0mindex\u001b[0m\u001b[1;33m)\u001b[0m\u001b[1;33m\u001b[0m\u001b[1;33m\u001b[0m\u001b[0m\n",
      "\u001b[1;32m~\\anaconda3\\lib\\site-packages\\pandas\\core\\internals\\construction.py\u001b[0m in \u001b[0;36m_extract_index\u001b[1;34m(data)\u001b[0m\n\u001b[0;32m    633\u001b[0m             \u001b[0mlengths\u001b[0m \u001b[1;33m=\u001b[0m \u001b[0mlist\u001b[0m\u001b[1;33m(\u001b[0m\u001b[0mset\u001b[0m\u001b[1;33m(\u001b[0m\u001b[0mraw_lengths\u001b[0m\u001b[1;33m)\u001b[0m\u001b[1;33m)\u001b[0m\u001b[1;33m\u001b[0m\u001b[1;33m\u001b[0m\u001b[0m\n\u001b[0;32m    634\u001b[0m             \u001b[1;32mif\u001b[0m \u001b[0mlen\u001b[0m\u001b[1;33m(\u001b[0m\u001b[0mlengths\u001b[0m\u001b[1;33m)\u001b[0m \u001b[1;33m>\u001b[0m \u001b[1;36m1\u001b[0m\u001b[1;33m:\u001b[0m\u001b[1;33m\u001b[0m\u001b[1;33m\u001b[0m\u001b[0m\n\u001b[1;32m--> 635\u001b[1;33m                 \u001b[1;32mraise\u001b[0m \u001b[0mValueError\u001b[0m\u001b[1;33m(\u001b[0m\u001b[1;34m\"All arrays must be of the same length\"\u001b[0m\u001b[1;33m)\u001b[0m\u001b[1;33m\u001b[0m\u001b[1;33m\u001b[0m\u001b[0m\n\u001b[0m\u001b[0;32m    636\u001b[0m \u001b[1;33m\u001b[0m\u001b[0m\n\u001b[0;32m    637\u001b[0m             \u001b[1;32mif\u001b[0m \u001b[0mhave_dicts\u001b[0m\u001b[1;33m:\u001b[0m\u001b[1;33m\u001b[0m\u001b[1;33m\u001b[0m\u001b[0m\n",
      "\u001b[1;31mValueError\u001b[0m: All arrays must be of the same length"
     ]
    }
   ],
   "source": [
    "pd.DataFrame(history.history).plot(figsize = (8,5))\n",
    "plt.grid(True)\n",
    "plt.gca().set_ylim(0,1)\n",
    "\n",
    "plt.show"
   ]
  },
  {
   "cell_type": "code",
   "execution_count": null,
   "id": "43980e56",
   "metadata": {},
   "outputs": [],
   "source": []
  }
 ],
 "metadata": {
  "kernelspec": {
   "display_name": "Python 3 (ipykernel)",
   "language": "python",
   "name": "python3"
  },
  "language_info": {
   "codemirror_mode": {
    "name": "ipython",
    "version": 3
   },
   "file_extension": ".py",
   "mimetype": "text/x-python",
   "name": "python",
   "nbconvert_exporter": "python",
   "pygments_lexer": "ipython3",
   "version": "3.9.7"
  }
 },
 "nbformat": 4,
 "nbformat_minor": 5
}
